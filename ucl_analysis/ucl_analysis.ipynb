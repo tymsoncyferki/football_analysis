{
 "cells": [
  {
   "cell_type": "markdown",
   "id": "efa4baa7",
   "metadata": {},
   "source": [
    "### Away goals influence analysis"
   ]
  },
  {
   "cell_type": "code",
   "execution_count": 132,
   "id": "d162905a",
   "metadata": {},
   "outputs": [],
   "source": [
    "import soccerdata as sd\n",
    "import numpy as np\n",
    "from scipy import stats"
   ]
  },
  {
   "cell_type": "markdown",
   "id": "ce89fca1",
   "metadata": {},
   "source": [
    "Czy obecnie pada mniej goli niż wcześniej?"
   ]
  },
  {
   "cell_type": "code",
   "execution_count": 64,
   "id": "c92067fb",
   "metadata": {},
   "outputs": [],
   "source": [
    "def extract_score(score):\n",
    "    index = score.index(\"–\")\n",
    "    goals_list = [score[index-1], score[index+1]]\n",
    "    return goals_list"
   ]
  },
  {
   "cell_type": "code",
   "execution_count": 133,
   "id": "88a46af2",
   "metadata": {
    "scrolled": true
   },
   "outputs": [],
   "source": [
    "def get_leg_goals_count(seasons, print_seasons=False):\n",
    "    \n",
    "    leg_1_goals = []\n",
    "    leg_2_goals = []\n",
    "\n",
    "    for season in seasons:\n",
    "        # get knockout data\n",
    "        ucl_season = sd.FBref(leagues=\"UEFA-Champions league\", seasons=season)\n",
    "        schedule = ucl_season.read_schedule()\n",
    "        knockout = schedule[schedule['round'] != 'Group stage'].copy()\n",
    "        # count goals\n",
    "        knockout['goals'] = knockout['score'].apply(lambda x: sum([int(i) for i in extract_score(x)]))\n",
    "        # extract leg info\n",
    "        knockout['leg'] = knockout['notes'].apply(lambda x: 'final' if pd.isna(x) else x[:5])\n",
    "        # calculate mean goals\n",
    "        result = knockout.groupby('leg')['goals'].mean()\n",
    "\n",
    "        leg_1_goals = leg_1_goals + knockout[knockout['leg'] == 'Leg 1']['goals'].to_list()\n",
    "        leg_2_goals = leg_2_goals + knockout[knockout['leg'] == 'Leg 2']['goals'].to_list()\n",
    "        \n",
    "        if print_seasons:\n",
    "            print(f\"Season {str(season)[:2]}/{str(season)[2:]}\")\n",
    "            print(result)\n",
    "    \n",
    "    return leg_1_goals, leg_2_goals"
   ]
  },
  {
   "cell_type": "code",
   "execution_count": 97,
   "id": "c9966327",
   "metadata": {},
   "outputs": [],
   "source": [
    "no_rule_seasons = [2122, 2223]\n",
    "rule_seasons = [2014, 2015, 2016, 2017, 2018, 2020]"
   ]
  },
  {
   "cell_type": "code",
   "execution_count": 124,
   "id": "fd1733b0",
   "metadata": {},
   "outputs": [
    {
     "data": {
      "text/html": [
       "<pre style=\"white-space:pre;overflow-x:auto;line-height:normal;font-family:Menlo,'DejaVu Sans Mono',consolas,'Courier New',monospace\"><span style=\"color: #7fbfbf; text-decoration-color: #7fbfbf\">[02/25/24 20:38:11] </span><span style=\"color: #000080; text-decoration-color: #000080\">INFO    </span> Saving cached data to C:\\Users\\tymek\\soccerdata\\data\\FBref               <a href=\"file://C:\\Users\\tymek\\AppData\\Roaming\\Python\\Python39\\site-packages\\soccerdata\\_common.py\" target=\"_blank\"><span style=\"color: #7f7f7f; text-decoration-color: #7f7f7f\">_common.py</span></a><span style=\"color: #7f7f7f; text-decoration-color: #7f7f7f\">:</span><a href=\"file://C:\\Users\\tymek\\AppData\\Roaming\\Python\\Python39\\site-packages\\soccerdata\\_common.py#91\" target=\"_blank\"><span style=\"color: #7f7f7f; text-decoration-color: #7f7f7f\">91</span></a>\n",
       "</pre>\n"
      ],
      "text/plain": [
       "\u001b[2;36m[02/25/24 20:38:11]\u001b[0m\u001b[2;36m \u001b[0m\u001b[34mINFO    \u001b[0m Saving cached data to C:\\Users\\tymek\\soccerdata\\data\\FBref               \u001b]8;id=337422;file://C:\\Users\\tymek\\AppData\\Roaming\\Python\\Python39\\site-packages\\soccerdata\\_common.py\u001b\\\u001b[2m_common.py\u001b[0m\u001b]8;;\u001b\\\u001b[2m:\u001b[0m\u001b]8;id=948868;file://C:\\Users\\tymek\\AppData\\Roaming\\Python\\Python39\\site-packages\\soccerdata\\_common.py#91\u001b\\\u001b[2m91\u001b[0m\u001b]8;;\u001b\\\n"
      ]
     },
     "metadata": {},
     "output_type": "display_data"
    },
    {
     "data": {
      "text/html": [
       "<pre style=\"white-space:pre;overflow-x:auto;line-height:normal;font-family:Menlo,'DejaVu Sans Mono',consolas,'Courier New',monospace\"><span style=\"color: #7fbfbf; text-decoration-color: #7fbfbf\">                    </span><span style=\"color: #000080; text-decoration-color: #000080\">INFO    </span> Saving cached data to C:\\Users\\tymek\\soccerdata\\data\\FBref               <a href=\"file://C:\\Users\\tymek\\AppData\\Roaming\\Python\\Python39\\site-packages\\soccerdata\\_common.py\" target=\"_blank\"><span style=\"color: #7f7f7f; text-decoration-color: #7f7f7f\">_common.py</span></a><span style=\"color: #7f7f7f; text-decoration-color: #7f7f7f\">:</span><a href=\"file://C:\\Users\\tymek\\AppData\\Roaming\\Python\\Python39\\site-packages\\soccerdata\\_common.py#91\" target=\"_blank\"><span style=\"color: #7f7f7f; text-decoration-color: #7f7f7f\">91</span></a>\n",
       "</pre>\n"
      ],
      "text/plain": [
       "\u001b[2;36m                   \u001b[0m\u001b[2;36m \u001b[0m\u001b[34mINFO    \u001b[0m Saving cached data to C:\\Users\\tymek\\soccerdata\\data\\FBref               \u001b]8;id=13044;file://C:\\Users\\tymek\\AppData\\Roaming\\Python\\Python39\\site-packages\\soccerdata\\_common.py\u001b\\\u001b[2m_common.py\u001b[0m\u001b]8;;\u001b\\\u001b[2m:\u001b[0m\u001b]8;id=189849;file://C:\\Users\\tymek\\AppData\\Roaming\\Python\\Python39\\site-packages\\soccerdata\\_common.py#91\u001b\\\u001b[2m91\u001b[0m\u001b]8;;\u001b\\\n"
      ]
     },
     "metadata": {},
     "output_type": "display_data"
    },
    {
     "data": {
      "text/html": [
       "<pre style=\"white-space:pre;overflow-x:auto;line-height:normal;font-family:Menlo,'DejaVu Sans Mono',consolas,'Courier New',monospace\"><span style=\"color: #7fbfbf; text-decoration-color: #7fbfbf\">[02/25/24 20:38:12] </span><span style=\"color: #000080; text-decoration-color: #000080\">INFO    </span> Saving cached data to C:\\Users\\tymek\\soccerdata\\data\\FBref               <a href=\"file://C:\\Users\\tymek\\AppData\\Roaming\\Python\\Python39\\site-packages\\soccerdata\\_common.py\" target=\"_blank\"><span style=\"color: #7f7f7f; text-decoration-color: #7f7f7f\">_common.py</span></a><span style=\"color: #7f7f7f; text-decoration-color: #7f7f7f\">:</span><a href=\"file://C:\\Users\\tymek\\AppData\\Roaming\\Python\\Python39\\site-packages\\soccerdata\\_common.py#91\" target=\"_blank\"><span style=\"color: #7f7f7f; text-decoration-color: #7f7f7f\">91</span></a>\n",
       "</pre>\n"
      ],
      "text/plain": [
       "\u001b[2;36m[02/25/24 20:38:12]\u001b[0m\u001b[2;36m \u001b[0m\u001b[34mINFO    \u001b[0m Saving cached data to C:\\Users\\tymek\\soccerdata\\data\\FBref               \u001b]8;id=723787;file://C:\\Users\\tymek\\AppData\\Roaming\\Python\\Python39\\site-packages\\soccerdata\\_common.py\u001b\\\u001b[2m_common.py\u001b[0m\u001b]8;;\u001b\\\u001b[2m:\u001b[0m\u001b]8;id=790413;file://C:\\Users\\tymek\\AppData\\Roaming\\Python\\Python39\\site-packages\\soccerdata\\_common.py#91\u001b\\\u001b[2m91\u001b[0m\u001b]8;;\u001b\\\n"
      ]
     },
     "metadata": {},
     "output_type": "display_data"
    },
    {
     "data": {
      "text/html": [
       "<pre style=\"white-space:pre;overflow-x:auto;line-height:normal;font-family:Menlo,'DejaVu Sans Mono',consolas,'Courier New',monospace\"><span style=\"color: #7fbfbf; text-decoration-color: #7fbfbf\">                    </span><span style=\"color: #000080; text-decoration-color: #000080\">INFO    </span> Saving cached data to C:\\Users\\tymek\\soccerdata\\data\\FBref               <a href=\"file://C:\\Users\\tymek\\AppData\\Roaming\\Python\\Python39\\site-packages\\soccerdata\\_common.py\" target=\"_blank\"><span style=\"color: #7f7f7f; text-decoration-color: #7f7f7f\">_common.py</span></a><span style=\"color: #7f7f7f; text-decoration-color: #7f7f7f\">:</span><a href=\"file://C:\\Users\\tymek\\AppData\\Roaming\\Python\\Python39\\site-packages\\soccerdata\\_common.py#91\" target=\"_blank\"><span style=\"color: #7f7f7f; text-decoration-color: #7f7f7f\">91</span></a>\n",
       "</pre>\n"
      ],
      "text/plain": [
       "\u001b[2;36m                   \u001b[0m\u001b[2;36m \u001b[0m\u001b[34mINFO    \u001b[0m Saving cached data to C:\\Users\\tymek\\soccerdata\\data\\FBref               \u001b]8;id=338869;file://C:\\Users\\tymek\\AppData\\Roaming\\Python\\Python39\\site-packages\\soccerdata\\_common.py\u001b\\\u001b[2m_common.py\u001b[0m\u001b]8;;\u001b\\\u001b[2m:\u001b[0m\u001b]8;id=945844;file://C:\\Users\\tymek\\AppData\\Roaming\\Python\\Python39\\site-packages\\soccerdata\\_common.py#91\u001b\\\u001b[2m91\u001b[0m\u001b]8;;\u001b\\\n"
      ]
     },
     "metadata": {},
     "output_type": "display_data"
    },
    {
     "data": {
      "text/html": [
       "<pre style=\"white-space:pre;overflow-x:auto;line-height:normal;font-family:Menlo,'DejaVu Sans Mono',consolas,'Courier New',monospace\"><span style=\"color: #7fbfbf; text-decoration-color: #7fbfbf\">                    </span><span style=\"color: #000080; text-decoration-color: #000080\">INFO    </span> Saving cached data to C:\\Users\\tymek\\soccerdata\\data\\FBref               <a href=\"file://C:\\Users\\tymek\\AppData\\Roaming\\Python\\Python39\\site-packages\\soccerdata\\_common.py\" target=\"_blank\"><span style=\"color: #7f7f7f; text-decoration-color: #7f7f7f\">_common.py</span></a><span style=\"color: #7f7f7f; text-decoration-color: #7f7f7f\">:</span><a href=\"file://C:\\Users\\tymek\\AppData\\Roaming\\Python\\Python39\\site-packages\\soccerdata\\_common.py#91\" target=\"_blank\"><span style=\"color: #7f7f7f; text-decoration-color: #7f7f7f\">91</span></a>\n",
       "</pre>\n"
      ],
      "text/plain": [
       "\u001b[2;36m                   \u001b[0m\u001b[2;36m \u001b[0m\u001b[34mINFO    \u001b[0m Saving cached data to C:\\Users\\tymek\\soccerdata\\data\\FBref               \u001b]8;id=969948;file://C:\\Users\\tymek\\AppData\\Roaming\\Python\\Python39\\site-packages\\soccerdata\\_common.py\u001b\\\u001b[2m_common.py\u001b[0m\u001b]8;;\u001b\\\u001b[2m:\u001b[0m\u001b]8;id=657134;file://C:\\Users\\tymek\\AppData\\Roaming\\Python\\Python39\\site-packages\\soccerdata\\_common.py#91\u001b\\\u001b[2m91\u001b[0m\u001b]8;;\u001b\\\n"
      ]
     },
     "metadata": {},
     "output_type": "display_data"
    },
    {
     "data": {
      "text/html": [
       "<pre style=\"white-space:pre;overflow-x:auto;line-height:normal;font-family:Menlo,'DejaVu Sans Mono',consolas,'Courier New',monospace\"><span style=\"color: #7fbfbf; text-decoration-color: #7fbfbf\">                    </span><span style=\"color: #000080; text-decoration-color: #000080\">INFO    </span> Saving cached data to C:\\Users\\tymek\\soccerdata\\data\\FBref               <a href=\"file://C:\\Users\\tymek\\AppData\\Roaming\\Python\\Python39\\site-packages\\soccerdata\\_common.py\" target=\"_blank\"><span style=\"color: #7f7f7f; text-decoration-color: #7f7f7f\">_common.py</span></a><span style=\"color: #7f7f7f; text-decoration-color: #7f7f7f\">:</span><a href=\"file://C:\\Users\\tymek\\AppData\\Roaming\\Python\\Python39\\site-packages\\soccerdata\\_common.py#91\" target=\"_blank\"><span style=\"color: #7f7f7f; text-decoration-color: #7f7f7f\">91</span></a>\n",
       "</pre>\n"
      ],
      "text/plain": [
       "\u001b[2;36m                   \u001b[0m\u001b[2;36m \u001b[0m\u001b[34mINFO    \u001b[0m Saving cached data to C:\\Users\\tymek\\soccerdata\\data\\FBref               \u001b]8;id=359274;file://C:\\Users\\tymek\\AppData\\Roaming\\Python\\Python39\\site-packages\\soccerdata\\_common.py\u001b\\\u001b[2m_common.py\u001b[0m\u001b]8;;\u001b\\\u001b[2m:\u001b[0m\u001b]8;id=173987;file://C:\\Users\\tymek\\AppData\\Roaming\\Python\\Python39\\site-packages\\soccerdata\\_common.py#91\u001b\\\u001b[2m91\u001b[0m\u001b]8;;\u001b\\\n"
      ]
     },
     "metadata": {},
     "output_type": "display_data"
    }
   ],
   "source": [
    "leg_1_goals, leg_2_goals = get_leg_goals_count(rule_seasons)"
   ]
  },
  {
   "cell_type": "code",
   "execution_count": 125,
   "id": "c4e006e8",
   "metadata": {},
   "outputs": [
    {
     "name": "stdout",
     "output_type": "stream",
     "text": [
      "avg goals 14/15 to 20/21\n",
      "leg 1: 2.82\n",
      "leg 2: 3.08\n"
     ]
    }
   ],
   "source": [
    "print(\"avg goals 14/15 to 20/21\")\n",
    "print(f\"leg 1: {round(np.mean(leg_1_goals), 2)}\")\n",
    "print(f\"leg 2: {round(np.mean(leg_2_goals), 2)}\")"
   ]
  },
  {
   "cell_type": "code",
   "execution_count": 126,
   "id": "d1769699",
   "metadata": {},
   "outputs": [
    {
     "data": {
      "text/html": [
       "<pre style=\"white-space:pre;overflow-x:auto;line-height:normal;font-family:Menlo,'DejaVu Sans Mono',consolas,'Courier New',monospace\"><span style=\"color: #7fbfbf; text-decoration-color: #7fbfbf\">[02/25/24 20:38:42] </span><span style=\"color: #000080; text-decoration-color: #000080\">INFO    </span> Saving cached data to C:\\Users\\tymek\\soccerdata\\data\\FBref               <a href=\"file://C:\\Users\\tymek\\AppData\\Roaming\\Python\\Python39\\site-packages\\soccerdata\\_common.py\" target=\"_blank\"><span style=\"color: #7f7f7f; text-decoration-color: #7f7f7f\">_common.py</span></a><span style=\"color: #7f7f7f; text-decoration-color: #7f7f7f\">:</span><a href=\"file://C:\\Users\\tymek\\AppData\\Roaming\\Python\\Python39\\site-packages\\soccerdata\\_common.py#91\" target=\"_blank\"><span style=\"color: #7f7f7f; text-decoration-color: #7f7f7f\">91</span></a>\n",
       "</pre>\n"
      ],
      "text/plain": [
       "\u001b[2;36m[02/25/24 20:38:42]\u001b[0m\u001b[2;36m \u001b[0m\u001b[34mINFO    \u001b[0m Saving cached data to C:\\Users\\tymek\\soccerdata\\data\\FBref               \u001b]8;id=42283;file://C:\\Users\\tymek\\AppData\\Roaming\\Python\\Python39\\site-packages\\soccerdata\\_common.py\u001b\\\u001b[2m_common.py\u001b[0m\u001b]8;;\u001b\\\u001b[2m:\u001b[0m\u001b]8;id=774831;file://C:\\Users\\tymek\\AppData\\Roaming\\Python\\Python39\\site-packages\\soccerdata\\_common.py#91\u001b\\\u001b[2m91\u001b[0m\u001b]8;;\u001b\\\n"
      ]
     },
     "metadata": {},
     "output_type": "display_data"
    },
    {
     "data": {
      "text/html": [
       "<pre style=\"white-space:pre;overflow-x:auto;line-height:normal;font-family:Menlo,'DejaVu Sans Mono',consolas,'Courier New',monospace\"><span style=\"color: #7fbfbf; text-decoration-color: #7fbfbf\">                    </span><span style=\"color: #000080; text-decoration-color: #000080\">INFO    </span> Saving cached data to C:\\Users\\tymek\\soccerdata\\data\\FBref               <a href=\"file://C:\\Users\\tymek\\AppData\\Roaming\\Python\\Python39\\site-packages\\soccerdata\\_common.py\" target=\"_blank\"><span style=\"color: #7f7f7f; text-decoration-color: #7f7f7f\">_common.py</span></a><span style=\"color: #7f7f7f; text-decoration-color: #7f7f7f\">:</span><a href=\"file://C:\\Users\\tymek\\AppData\\Roaming\\Python\\Python39\\site-packages\\soccerdata\\_common.py#91\" target=\"_blank\"><span style=\"color: #7f7f7f; text-decoration-color: #7f7f7f\">91</span></a>\n",
       "</pre>\n"
      ],
      "text/plain": [
       "\u001b[2;36m                   \u001b[0m\u001b[2;36m \u001b[0m\u001b[34mINFO    \u001b[0m Saving cached data to C:\\Users\\tymek\\soccerdata\\data\\FBref               \u001b]8;id=944889;file://C:\\Users\\tymek\\AppData\\Roaming\\Python\\Python39\\site-packages\\soccerdata\\_common.py\u001b\\\u001b[2m_common.py\u001b[0m\u001b]8;;\u001b\\\u001b[2m:\u001b[0m\u001b]8;id=313552;file://C:\\Users\\tymek\\AppData\\Roaming\\Python\\Python39\\site-packages\\soccerdata\\_common.py#91\u001b\\\u001b[2m91\u001b[0m\u001b]8;;\u001b\\\n"
      ]
     },
     "metadata": {},
     "output_type": "display_data"
    }
   ],
   "source": [
    "leg_1_goals_no, leg_2_goals_no = get_leg_goals_count(no_rule_seasons)"
   ]
  },
  {
   "cell_type": "code",
   "execution_count": 127,
   "id": "9314b16b",
   "metadata": {},
   "outputs": [
    {
     "name": "stdout",
     "output_type": "stream",
     "text": [
      "avg goals 21/22 to 22/23\n",
      "leg 1: 2.43\n",
      "leg 2: 2.89\n"
     ]
    }
   ],
   "source": [
    "print(\"avg goals 21/22 to 22/23\")\n",
    "print(f\"leg 1: {round(np.mean(leg_1_goals_no), 2)}\")\n",
    "print(f\"leg 2: {round(np.mean(leg_2_goals_no), 2)}\")"
   ]
  },
  {
   "cell_type": "code",
   "execution_count": 131,
   "id": "d3b95d3c",
   "metadata": {},
   "outputs": [],
   "source": [
    "def test_means(leg, leg_no, equal_var=True):\n",
    "    t_statistic, p_value = stats.ttest_ind(leg, leg_no, equal_var=equal_var)\n",
    "\n",
    "    print('leg 1:')\n",
    "    if p_value < 0.05:\n",
    "        print(\"Różnica w średniej liczbie goli jest istotna.\")\n",
    "    else:\n",
    "        print(\"Nie ma istotnej różnicy w średniej liczbie goli.\")\n",
    "\n",
    "    print(\"p value:\", p_value)"
   ]
  },
  {
   "cell_type": "code",
   "execution_count": 130,
   "id": "29d5b978",
   "metadata": {},
   "outputs": [
    {
     "name": "stdout",
     "output_type": "stream",
     "text": [
      "leg 1:\n",
      "Nie ma istotnej różnicy w średniej liczbie goli.\n",
      "p value: 0.28673583357096566\n",
      "leg 1:\n",
      "Nie ma istotnej różnicy w średniej liczbie goli.\n",
      "p value: 0.693346491402913\n"
     ]
    }
   ],
   "source": [
    "test_means(leg_1_goals, leg_1_goals_no, equal_var=False)\n",
    "test_means(leg_2_goals, leg_2_goals_no, equal_var=False)"
   ]
  },
  {
   "cell_type": "markdown",
   "id": "fa70348e",
   "metadata": {},
   "source": [
    "Czy po usunięciu zasady o bramkach wyjazdowych zwiększyła się liczba dogrywek?"
   ]
  },
  {
   "cell_type": "code",
   "execution_count": 188,
   "id": "feb0eb6e",
   "metadata": {},
   "outputs": [],
   "source": [
    "def get_number_of_et(seasons, print_matches=True):\n",
    "    ucl_season = sd.FBref(leagues=\"UEFA-Champions league\", seasons=seasons)\n",
    "    schedule = ucl_season.read_schedule()\n",
    "    knockout = schedule[~schedule['round'].isin(['Group stage', 'Final'])].copy()\n",
    "    # knockout.reset_index(drop=True, inplace=True)\n",
    "    extra_time = knockout[knockout['notes'].apply(lambda x: False if pd.isna(x) else (x.find('Extra') != -1 or x.find('extra') != -1))]\n",
    "    if print_matches:\n",
    "        print(extra_time['notes'])\n",
    "    return len(extra_time)"
   ]
  },
  {
   "cell_type": "code",
   "execution_count": 191,
   "id": "3099c356",
   "metadata": {},
   "outputs": [
    {
     "data": {
      "text/html": [
       "<pre style=\"white-space:pre;overflow-x:auto;line-height:normal;font-family:Menlo,'DejaVu Sans Mono',consolas,'Courier New',monospace\"><span style=\"color: #7fbfbf; text-decoration-color: #7fbfbf\">[02/25/24 23:05:46] </span><span style=\"color: #000080; text-decoration-color: #000080\">INFO    </span> Saving cached data to C:\\Users\\tymek\\soccerdata\\data\\FBref               <a href=\"file://C:\\Users\\tymek\\AppData\\Roaming\\Python\\Python39\\site-packages\\soccerdata\\_common.py\" target=\"_blank\"><span style=\"color: #7f7f7f; text-decoration-color: #7f7f7f\">_common.py</span></a><span style=\"color: #7f7f7f; text-decoration-color: #7f7f7f\">:</span><a href=\"file://C:\\Users\\tymek\\AppData\\Roaming\\Python\\Python39\\site-packages\\soccerdata\\_common.py#91\" target=\"_blank\"><span style=\"color: #7f7f7f; text-decoration-color: #7f7f7f\">91</span></a>\n",
       "</pre>\n"
      ],
      "text/plain": [
       "\u001b[2;36m[02/25/24 23:05:46]\u001b[0m\u001b[2;36m \u001b[0m\u001b[34mINFO    \u001b[0m Saving cached data to C:\\Users\\tymek\\soccerdata\\data\\FBref               \u001b]8;id=45836;file://C:\\Users\\tymek\\AppData\\Roaming\\Python\\Python39\\site-packages\\soccerdata\\_common.py\u001b\\\u001b[2m_common.py\u001b[0m\u001b]8;;\u001b\\\u001b[2m:\u001b[0m\u001b]8;id=387890;file://C:\\Users\\tymek\\AppData\\Roaming\\Python\\Python39\\site-packages\\soccerdata\\_common.py#91\u001b\\\u001b[2m91\u001b[0m\u001b]8;;\u001b\\\n"
      ]
     },
     "metadata": {},
     "output_type": "display_data"
    },
    {
     "name": "stdout",
     "output_type": "stream",
     "text": [
      "No. of matches with extra time: 8\n",
      "ET per season: 1.1428571428571428\n"
     ]
    }
   ],
   "source": [
    "seasons = [14, 15, 16, 17, 18, 19, 20]\n",
    "count = get_number_of_et(seasons, print_matches=False)\n",
    "print(f\"No. of matches with extra time: {count}\")\n",
    "print(f\"ET per season: {count / len(seasons)}\")"
   ]
  },
  {
   "cell_type": "code",
   "execution_count": 192,
   "id": "b5303dcf",
   "metadata": {},
   "outputs": [
    {
     "data": {
      "text/html": [
       "<pre style=\"white-space:pre;overflow-x:auto;line-height:normal;font-family:Menlo,'DejaVu Sans Mono',consolas,'Courier New',monospace\"><span style=\"color: #7fbfbf; text-decoration-color: #7fbfbf\">[02/25/24 23:06:12] </span><span style=\"color: #000080; text-decoration-color: #000080\">INFO    </span> Saving cached data to C:\\Users\\tymek\\soccerdata\\data\\FBref               <a href=\"file://C:\\Users\\tymek\\AppData\\Roaming\\Python\\Python39\\site-packages\\soccerdata\\_common.py\" target=\"_blank\"><span style=\"color: #7f7f7f; text-decoration-color: #7f7f7f\">_common.py</span></a><span style=\"color: #7f7f7f; text-decoration-color: #7f7f7f\">:</span><a href=\"file://C:\\Users\\tymek\\AppData\\Roaming\\Python\\Python39\\site-packages\\soccerdata\\_common.py#91\" target=\"_blank\"><span style=\"color: #7f7f7f; text-decoration-color: #7f7f7f\">91</span></a>\n",
       "</pre>\n"
      ],
      "text/plain": [
       "\u001b[2;36m[02/25/24 23:06:12]\u001b[0m\u001b[2;36m \u001b[0m\u001b[34mINFO    \u001b[0m Saving cached data to C:\\Users\\tymek\\soccerdata\\data\\FBref               \u001b]8;id=693655;file://C:\\Users\\tymek\\AppData\\Roaming\\Python\\Python39\\site-packages\\soccerdata\\_common.py\u001b\\\u001b[2m_common.py\u001b[0m\u001b]8;;\u001b\\\u001b[2m:\u001b[0m\u001b]8;id=312679;file://C:\\Users\\tymek\\AppData\\Roaming\\Python\\Python39\\site-packages\\soccerdata\\_common.py#91\u001b\\\u001b[2m91\u001b[0m\u001b]8;;\u001b\\\n"
      ]
     },
     "metadata": {},
     "output_type": "display_data"
    },
    {
     "name": "stdout",
     "output_type": "stream",
     "text": [
      "No. of matches with extra time: 2\n",
      "ET per season: 1.0\n"
     ]
    }
   ],
   "source": [
    "seasons = [21, 22]\n",
    "count = get_number_of_et(seasons, print_matches=False)\n",
    "print(f\"No. of matches with extra time: {count}\")\n",
    "print(f\"ET per season: {count / len(seasons)}\")"
   ]
  }
 ],
 "metadata": {
  "kernelspec": {
   "display_name": "Python 3 (ipykernel)",
   "language": "python",
   "name": "python3"
  },
  "language_info": {
   "codemirror_mode": {
    "name": "ipython",
    "version": 3
   },
   "file_extension": ".py",
   "mimetype": "text/x-python",
   "name": "python",
   "nbconvert_exporter": "python",
   "pygments_lexer": "ipython3",
   "version": "3.9.13"
  }
 },
 "nbformat": 4,
 "nbformat_minor": 5
}
