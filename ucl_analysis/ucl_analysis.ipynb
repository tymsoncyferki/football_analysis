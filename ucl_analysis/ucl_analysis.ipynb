{
 "cells": [
  {
   "cell_type": "markdown",
   "id": "efa4baa7",
   "metadata": {},
   "source": [
    "### Away goals influence analysis"
   ]
  },
  {
   "cell_type": "code",
   "execution_count": 1,
   "id": "d162905a",
   "metadata": {},
   "outputs": [
    {
     "data": {
      "text/html": [
       "<pre style=\"white-space:pre;overflow-x:auto;line-height:normal;font-family:Menlo,'DejaVu Sans Mono',consolas,'Courier New',monospace\"><span style=\"color: #7fbfbf; text-decoration-color: #7fbfbf\">[08/22/24 21:25:32] </span><span style=\"color: #000080; text-decoration-color: #000080\">INFO    </span> No custom team name replacements found. You can configure these in       <a href=\"file://C:\\Users\\tymek\\AppData\\Roaming\\Python\\Python311\\site-packages\\soccerdata\\_config.py\" target=\"_blank\"><span style=\"color: #7f7f7f; text-decoration-color: #7f7f7f\">_config.py</span></a><span style=\"color: #7f7f7f; text-decoration-color: #7f7f7f\">:</span><a href=\"file://C:\\Users\\tymek\\AppData\\Roaming\\Python\\Python311\\site-packages\\soccerdata\\_config.py#90\" target=\"_blank\"><span style=\"color: #7f7f7f; text-decoration-color: #7f7f7f\">90</span></a>\n",
       "<span style=\"color: #7fbfbf; text-decoration-color: #7fbfbf\">                    </span>         C:\\Users\\tymek\\soccerdata\\config\\teamname_replacements.json.             <span style=\"color: #7f7f7f; text-decoration-color: #7f7f7f\">             </span>\n",
       "</pre>\n"
      ],
      "text/plain": [
       "\u001b[2;36m[08/22/24 21:25:32]\u001b[0m\u001b[2;36m \u001b[0m\u001b[34mINFO    \u001b[0m No custom team name replacements found. You can configure these in       \u001b]8;id=737230;file://C:\\Users\\tymek\\AppData\\Roaming\\Python\\Python311\\site-packages\\soccerdata\\_config.py\u001b\\\u001b[2m_config.py\u001b[0m\u001b]8;;\u001b\\\u001b[2m:\u001b[0m\u001b]8;id=285842;file://C:\\Users\\tymek\\AppData\\Roaming\\Python\\Python311\\site-packages\\soccerdata\\_config.py#90\u001b\\\u001b[2m90\u001b[0m\u001b]8;;\u001b\\\n",
       "\u001b[2;36m                    \u001b[0m         C:\\Users\\tymek\\soccerdata\\config\\teamname_replacements.json.             \u001b[2m             \u001b[0m\n"
      ]
     },
     "metadata": {},
     "output_type": "display_data"
    },
    {
     "data": {
      "text/html": [
       "<pre style=\"white-space:pre;overflow-x:auto;line-height:normal;font-family:Menlo,'DejaVu Sans Mono',consolas,'Courier New',monospace\"><span style=\"color: #7fbfbf; text-decoration-color: #7fbfbf\">[08/22/24 21:25:33] </span><span style=\"color: #000080; text-decoration-color: #000080\">INFO    </span> Custom league dict loaded from                                          <a href=\"file://C:\\Users\\tymek\\AppData\\Roaming\\Python\\Python311\\site-packages\\soccerdata\\_config.py\" target=\"_blank\"><span style=\"color: #7f7f7f; text-decoration-color: #7f7f7f\">_config.py</span></a><span style=\"color: #7f7f7f; text-decoration-color: #7f7f7f\">:</span><a href=\"file://C:\\Users\\tymek\\AppData\\Roaming\\Python\\Python311\\site-packages\\soccerdata\\_config.py#194\" target=\"_blank\"><span style=\"color: #7f7f7f; text-decoration-color: #7f7f7f\">194</span></a>\n",
       "<span style=\"color: #7fbfbf; text-decoration-color: #7fbfbf\">                    </span>         C:\\Users\\tymek\\soccerdata\\config\\league_dict.json.                      <span style=\"color: #7f7f7f; text-decoration-color: #7f7f7f\">              </span>\n",
       "</pre>\n"
      ],
      "text/plain": [
       "\u001b[2;36m[08/22/24 21:25:33]\u001b[0m\u001b[2;36m \u001b[0m\u001b[34mINFO    \u001b[0m Custom league dict loaded from                                          \u001b]8;id=139649;file://C:\\Users\\tymek\\AppData\\Roaming\\Python\\Python311\\site-packages\\soccerdata\\_config.py\u001b\\\u001b[2m_config.py\u001b[0m\u001b]8;;\u001b\\\u001b[2m:\u001b[0m\u001b]8;id=699200;file://C:\\Users\\tymek\\AppData\\Roaming\\Python\\Python311\\site-packages\\soccerdata\\_config.py#194\u001b\\\u001b[2m194\u001b[0m\u001b]8;;\u001b\\\n",
       "\u001b[2;36m                    \u001b[0m         C:\\Users\\tymek\\soccerdata\\config\\league_dict.json.                      \u001b[2m              \u001b[0m\n"
      ]
     },
     "metadata": {},
     "output_type": "display_data"
    }
   ],
   "source": [
    "import soccerdata as sd\n",
    "import numpy as np\n",
    "from scipy import stats\n",
    "import pandas as pd"
   ]
  },
  {
   "cell_type": "markdown",
   "id": "ce89fca1",
   "metadata": {},
   "source": [
    "Czy obecnie pada mniej goli niż wcześniej?"
   ]
  },
  {
   "cell_type": "code",
   "execution_count": 4,
   "id": "c92067fb",
   "metadata": {},
   "outputs": [],
   "source": [
    "def extract_score(score):\n",
    "    try:\n",
    "        index = score.index(\"–\")\n",
    "        goals_list = [score[index-1], score[index+1]]\n",
    "    except Exception:\n",
    "        print('score is NONE!')\n",
    "        goals_list = [0, 0]\n",
    "    return goals_list"
   ]
  },
  {
   "cell_type": "code",
   "execution_count": 5,
   "id": "88a46af2",
   "metadata": {
    "scrolled": true
   },
   "outputs": [],
   "source": [
    "def get_leg_goals_count(seasons, print_seasons=False, league=\"UEFA-Champions league\"):\n",
    "    \n",
    "    leg_1_goals = []\n",
    "    leg_2_goals = []\n",
    "\n",
    "    for season in seasons:\n",
    "        # get knockout data\n",
    "        ucl_season = sd.FBref(leagues=league, seasons=season)\n",
    "        schedule = ucl_season.read_schedule()\n",
    "        knockout = schedule[schedule['round'] != 'Group stage'].copy()\n",
    "        # count goals\n",
    "        knockout['goals'] = knockout['score'].apply(lambda x: sum([int(i) for i in extract_score(x)]))\n",
    "        # extract leg info\n",
    "        knockout['leg'] = knockout['notes'].apply(lambda x: 'final' if pd.isna(x) else x[:5])\n",
    "        # calculate mean goals\n",
    "        result = knockout.groupby('leg')['goals'].mean()\n",
    "\n",
    "        leg_1_goals = leg_1_goals + knockout[knockout['leg'] == 'Leg 1']['goals'].to_list()\n",
    "        leg_2_goals = leg_2_goals + knockout[knockout['leg'] == 'Leg 2']['goals'].to_list()\n",
    "        \n",
    "        if print_seasons:\n",
    "            print(f\"Season {str(season)[:2]}/{str(season)[2:]}\")\n",
    "            print(result)\n",
    "    \n",
    "    return leg_1_goals, leg_2_goals"
   ]
  },
  {
   "cell_type": "code",
   "execution_count": 6,
   "id": "c9966327",
   "metadata": {},
   "outputs": [],
   "source": [
    "no_rule_seasons = [2122, 2223, 2324]\n",
    "rule_seasons = [2014, 2015, 2016, 2017, 2018, 2020]"
   ]
  },
  {
   "cell_type": "code",
   "execution_count": 10,
   "id": "fd1733b0",
   "metadata": {},
   "outputs": [
    {
     "data": {
      "text/html": [
       "<pre style=\"white-space:pre;overflow-x:auto;line-height:normal;font-family:Menlo,'DejaVu Sans Mono',consolas,'Courier New',monospace\"><span style=\"color: #7fbfbf; text-decoration-color: #7fbfbf\">[08/22/24 21:18:06] </span><span style=\"color: #000080; text-decoration-color: #000080\">INFO    </span> Saving cached data to C:\\Users\\tymek\\soccerdata\\data\\FBref              <a href=\"file://C:\\Users\\tymek\\AppData\\Roaming\\Python\\Python311\\site-packages\\soccerdata\\_common.py\" target=\"_blank\"><span style=\"color: #7f7f7f; text-decoration-color: #7f7f7f\">_common.py</span></a><span style=\"color: #7f7f7f; text-decoration-color: #7f7f7f\">:</span><a href=\"file://C:\\Users\\tymek\\AppData\\Roaming\\Python\\Python311\\site-packages\\soccerdata\\_common.py#263\" target=\"_blank\"><span style=\"color: #7f7f7f; text-decoration-color: #7f7f7f\">263</span></a>\n",
       "</pre>\n"
      ],
      "text/plain": [
       "\u001b[2;36m[08/22/24 21:18:06]\u001b[0m\u001b[2;36m \u001b[0m\u001b[34mINFO    \u001b[0m Saving cached data to C:\\Users\\tymek\\soccerdata\\data\\FBref              \u001b]8;id=287059;file://C:\\Users\\tymek\\AppData\\Roaming\\Python\\Python311\\site-packages\\soccerdata\\_common.py\u001b\\\u001b[2m_common.py\u001b[0m\u001b]8;;\u001b\\\u001b[2m:\u001b[0m\u001b]8;id=258693;file://C:\\Users\\tymek\\AppData\\Roaming\\Python\\Python311\\site-packages\\soccerdata\\_common.py#263\u001b\\\u001b[2m263\u001b[0m\u001b]8;;\u001b\\\n"
      ]
     },
     "metadata": {},
     "output_type": "display_data"
    },
    {
     "data": {
      "text/html": [
       "<pre style=\"white-space:pre;overflow-x:auto;line-height:normal;font-family:Menlo,'DejaVu Sans Mono',consolas,'Courier New',monospace\"><span style=\"color: #7fbfbf; text-decoration-color: #7fbfbf\">[08/22/24 21:18:07] </span><span style=\"color: #000080; text-decoration-color: #000080\">INFO    </span> Saving cached data to C:\\Users\\tymek\\soccerdata\\data\\FBref              <a href=\"file://C:\\Users\\tymek\\AppData\\Roaming\\Python\\Python311\\site-packages\\soccerdata\\_common.py\" target=\"_blank\"><span style=\"color: #7f7f7f; text-decoration-color: #7f7f7f\">_common.py</span></a><span style=\"color: #7f7f7f; text-decoration-color: #7f7f7f\">:</span><a href=\"file://C:\\Users\\tymek\\AppData\\Roaming\\Python\\Python311\\site-packages\\soccerdata\\_common.py#263\" target=\"_blank\"><span style=\"color: #7f7f7f; text-decoration-color: #7f7f7f\">263</span></a>\n",
       "</pre>\n"
      ],
      "text/plain": [
       "\u001b[2;36m[08/22/24 21:18:07]\u001b[0m\u001b[2;36m \u001b[0m\u001b[34mINFO    \u001b[0m Saving cached data to C:\\Users\\tymek\\soccerdata\\data\\FBref              \u001b]8;id=885436;file://C:\\Users\\tymek\\AppData\\Roaming\\Python\\Python311\\site-packages\\soccerdata\\_common.py\u001b\\\u001b[2m_common.py\u001b[0m\u001b]8;;\u001b\\\u001b[2m:\u001b[0m\u001b]8;id=268096;file://C:\\Users\\tymek\\AppData\\Roaming\\Python\\Python311\\site-packages\\soccerdata\\_common.py#263\u001b\\\u001b[2m263\u001b[0m\u001b]8;;\u001b\\\n"
      ]
     },
     "metadata": {},
     "output_type": "display_data"
    },
    {
     "data": {
      "text/html": [
       "<pre style=\"white-space:pre;overflow-x:auto;line-height:normal;font-family:Menlo,'DejaVu Sans Mono',consolas,'Courier New',monospace\"><span style=\"color: #7fbfbf; text-decoration-color: #7fbfbf\">[08/22/24 21:18:14] </span><span style=\"color: #000080; text-decoration-color: #000080\">INFO    </span> Saving cached data to C:\\Users\\tymek\\soccerdata\\data\\FBref              <a href=\"file://C:\\Users\\tymek\\AppData\\Roaming\\Python\\Python311\\site-packages\\soccerdata\\_common.py\" target=\"_blank\"><span style=\"color: #7f7f7f; text-decoration-color: #7f7f7f\">_common.py</span></a><span style=\"color: #7f7f7f; text-decoration-color: #7f7f7f\">:</span><a href=\"file://C:\\Users\\tymek\\AppData\\Roaming\\Python\\Python311\\site-packages\\soccerdata\\_common.py#263\" target=\"_blank\"><span style=\"color: #7f7f7f; text-decoration-color: #7f7f7f\">263</span></a>\n",
       "</pre>\n"
      ],
      "text/plain": [
       "\u001b[2;36m[08/22/24 21:18:14]\u001b[0m\u001b[2;36m \u001b[0m\u001b[34mINFO    \u001b[0m Saving cached data to C:\\Users\\tymek\\soccerdata\\data\\FBref              \u001b]8;id=157148;file://C:\\Users\\tymek\\AppData\\Roaming\\Python\\Python311\\site-packages\\soccerdata\\_common.py\u001b\\\u001b[2m_common.py\u001b[0m\u001b]8;;\u001b\\\u001b[2m:\u001b[0m\u001b]8;id=549143;file://C:\\Users\\tymek\\AppData\\Roaming\\Python\\Python311\\site-packages\\soccerdata\\_common.py#263\u001b\\\u001b[2m263\u001b[0m\u001b]8;;\u001b\\\n"
      ]
     },
     "metadata": {},
     "output_type": "display_data"
    },
    {
     "data": {
      "text/html": [
       "<pre style=\"white-space:pre;overflow-x:auto;line-height:normal;font-family:Menlo,'DejaVu Sans Mono',consolas,'Courier New',monospace\"><span style=\"color: #7fbfbf; text-decoration-color: #7fbfbf\">[08/22/24 21:18:35] </span><span style=\"color: #000080; text-decoration-color: #000080\">INFO    </span> Saving cached data to C:\\Users\\tymek\\soccerdata\\data\\FBref              <a href=\"file://C:\\Users\\tymek\\AppData\\Roaming\\Python\\Python311\\site-packages\\soccerdata\\_common.py\" target=\"_blank\"><span style=\"color: #7f7f7f; text-decoration-color: #7f7f7f\">_common.py</span></a><span style=\"color: #7f7f7f; text-decoration-color: #7f7f7f\">:</span><a href=\"file://C:\\Users\\tymek\\AppData\\Roaming\\Python\\Python311\\site-packages\\soccerdata\\_common.py#263\" target=\"_blank\"><span style=\"color: #7f7f7f; text-decoration-color: #7f7f7f\">263</span></a>\n",
       "</pre>\n"
      ],
      "text/plain": [
       "\u001b[2;36m[08/22/24 21:18:35]\u001b[0m\u001b[2;36m \u001b[0m\u001b[34mINFO    \u001b[0m Saving cached data to C:\\Users\\tymek\\soccerdata\\data\\FBref              \u001b]8;id=41740;file://C:\\Users\\tymek\\AppData\\Roaming\\Python\\Python311\\site-packages\\soccerdata\\_common.py\u001b\\\u001b[2m_common.py\u001b[0m\u001b]8;;\u001b\\\u001b[2m:\u001b[0m\u001b]8;id=200187;file://C:\\Users\\tymek\\AppData\\Roaming\\Python\\Python311\\site-packages\\soccerdata\\_common.py#263\u001b\\\u001b[2m263\u001b[0m\u001b]8;;\u001b\\\n"
      ]
     },
     "metadata": {},
     "output_type": "display_data"
    },
    {
     "data": {
      "text/html": [
       "<pre style=\"white-space:pre;overflow-x:auto;line-height:normal;font-family:Menlo,'DejaVu Sans Mono',consolas,'Courier New',monospace\"><span style=\"color: #7fbfbf; text-decoration-color: #7fbfbf\">[08/22/24 21:18:57] </span><span style=\"color: #000080; text-decoration-color: #000080\">INFO    </span> Saving cached data to C:\\Users\\tymek\\soccerdata\\data\\FBref              <a href=\"file://C:\\Users\\tymek\\AppData\\Roaming\\Python\\Python311\\site-packages\\soccerdata\\_common.py\" target=\"_blank\"><span style=\"color: #7f7f7f; text-decoration-color: #7f7f7f\">_common.py</span></a><span style=\"color: #7f7f7f; text-decoration-color: #7f7f7f\">:</span><a href=\"file://C:\\Users\\tymek\\AppData\\Roaming\\Python\\Python311\\site-packages\\soccerdata\\_common.py#263\" target=\"_blank\"><span style=\"color: #7f7f7f; text-decoration-color: #7f7f7f\">263</span></a>\n",
       "</pre>\n"
      ],
      "text/plain": [
       "\u001b[2;36m[08/22/24 21:18:57]\u001b[0m\u001b[2;36m \u001b[0m\u001b[34mINFO    \u001b[0m Saving cached data to C:\\Users\\tymek\\soccerdata\\data\\FBref              \u001b]8;id=131660;file://C:\\Users\\tymek\\AppData\\Roaming\\Python\\Python311\\site-packages\\soccerdata\\_common.py\u001b\\\u001b[2m_common.py\u001b[0m\u001b]8;;\u001b\\\u001b[2m:\u001b[0m\u001b]8;id=606540;file://C:\\Users\\tymek\\AppData\\Roaming\\Python\\Python311\\site-packages\\soccerdata\\_common.py#263\u001b\\\u001b[2m263\u001b[0m\u001b]8;;\u001b\\\n"
      ]
     },
     "metadata": {},
     "output_type": "display_data"
    },
    {
     "data": {
      "text/html": [
       "<pre style=\"white-space:pre;overflow-x:auto;line-height:normal;font-family:Menlo,'DejaVu Sans Mono',consolas,'Courier New',monospace\"><span style=\"color: #7fbfbf; text-decoration-color: #7fbfbf\">[08/22/24 21:19:17] </span><span style=\"color: #000080; text-decoration-color: #000080\">INFO    </span> Saving cached data to C:\\Users\\tymek\\soccerdata\\data\\FBref              <a href=\"file://C:\\Users\\tymek\\AppData\\Roaming\\Python\\Python311\\site-packages\\soccerdata\\_common.py\" target=\"_blank\"><span style=\"color: #7f7f7f; text-decoration-color: #7f7f7f\">_common.py</span></a><span style=\"color: #7f7f7f; text-decoration-color: #7f7f7f\">:</span><a href=\"file://C:\\Users\\tymek\\AppData\\Roaming\\Python\\Python311\\site-packages\\soccerdata\\_common.py#263\" target=\"_blank\"><span style=\"color: #7f7f7f; text-decoration-color: #7f7f7f\">263</span></a>\n",
       "</pre>\n"
      ],
      "text/plain": [
       "\u001b[2;36m[08/22/24 21:19:17]\u001b[0m\u001b[2;36m \u001b[0m\u001b[34mINFO    \u001b[0m Saving cached data to C:\\Users\\tymek\\soccerdata\\data\\FBref              \u001b]8;id=187166;file://C:\\Users\\tymek\\AppData\\Roaming\\Python\\Python311\\site-packages\\soccerdata\\_common.py\u001b\\\u001b[2m_common.py\u001b[0m\u001b]8;;\u001b\\\u001b[2m:\u001b[0m\u001b]8;id=916367;file://C:\\Users\\tymek\\AppData\\Roaming\\Python\\Python311\\site-packages\\soccerdata\\_common.py#263\u001b\\\u001b[2m263\u001b[0m\u001b]8;;\u001b\\\n"
      ]
     },
     "metadata": {},
     "output_type": "display_data"
    }
   ],
   "source": [
    "leg_1_goals, leg_2_goals = get_leg_goals_count(rule_seasons)"
   ]
  },
  {
   "cell_type": "code",
   "execution_count": 11,
   "id": "c4e006e8",
   "metadata": {},
   "outputs": [
    {
     "name": "stdout",
     "output_type": "stream",
     "text": [
      "avg goals 14/15 to 20/21\n",
      "leg 1: 2.82\n",
      "leg 2: 3.08\n"
     ]
    }
   ],
   "source": [
    "print(\"avg goals 14/15 to 20/21\")\n",
    "print(f\"leg 1: {round(np.mean(leg_1_goals), 2)}\")\n",
    "print(f\"leg 2: {round(np.mean(leg_2_goals), 2)}\")"
   ]
  },
  {
   "cell_type": "code",
   "execution_count": 12,
   "id": "d1769699",
   "metadata": {},
   "outputs": [
    {
     "data": {
      "text/html": [
       "<pre style=\"white-space:pre;overflow-x:auto;line-height:normal;font-family:Menlo,'DejaVu Sans Mono',consolas,'Courier New',monospace\"><span style=\"color: #7fbfbf; text-decoration-color: #7fbfbf\">[08/22/24 21:19:49] </span><span style=\"color: #000080; text-decoration-color: #000080\">INFO    </span> Saving cached data to C:\\Users\\tymek\\soccerdata\\data\\FBref              <a href=\"file://C:\\Users\\tymek\\AppData\\Roaming\\Python\\Python311\\site-packages\\soccerdata\\_common.py\" target=\"_blank\"><span style=\"color: #7f7f7f; text-decoration-color: #7f7f7f\">_common.py</span></a><span style=\"color: #7f7f7f; text-decoration-color: #7f7f7f\">:</span><a href=\"file://C:\\Users\\tymek\\AppData\\Roaming\\Python\\Python311\\site-packages\\soccerdata\\_common.py#263\" target=\"_blank\"><span style=\"color: #7f7f7f; text-decoration-color: #7f7f7f\">263</span></a>\n",
       "</pre>\n"
      ],
      "text/plain": [
       "\u001b[2;36m[08/22/24 21:19:49]\u001b[0m\u001b[2;36m \u001b[0m\u001b[34mINFO    \u001b[0m Saving cached data to C:\\Users\\tymek\\soccerdata\\data\\FBref              \u001b]8;id=62424;file://C:\\Users\\tymek\\AppData\\Roaming\\Python\\Python311\\site-packages\\soccerdata\\_common.py\u001b\\\u001b[2m_common.py\u001b[0m\u001b]8;;\u001b\\\u001b[2m:\u001b[0m\u001b]8;id=132703;file://C:\\Users\\tymek\\AppData\\Roaming\\Python\\Python311\\site-packages\\soccerdata\\_common.py#263\u001b\\\u001b[2m263\u001b[0m\u001b]8;;\u001b\\\n"
      ]
     },
     "metadata": {},
     "output_type": "display_data"
    },
    {
     "data": {
      "text/html": [
       "<pre style=\"white-space:pre;overflow-x:auto;line-height:normal;font-family:Menlo,'DejaVu Sans Mono',consolas,'Courier New',monospace\"><span style=\"color: #7fbfbf; text-decoration-color: #7fbfbf\">[08/22/24 21:20:07] </span><span style=\"color: #000080; text-decoration-color: #000080\">INFO    </span> Saving cached data to C:\\Users\\tymek\\soccerdata\\data\\FBref              <a href=\"file://C:\\Users\\tymek\\AppData\\Roaming\\Python\\Python311\\site-packages\\soccerdata\\_common.py\" target=\"_blank\"><span style=\"color: #7f7f7f; text-decoration-color: #7f7f7f\">_common.py</span></a><span style=\"color: #7f7f7f; text-decoration-color: #7f7f7f\">:</span><a href=\"file://C:\\Users\\tymek\\AppData\\Roaming\\Python\\Python311\\site-packages\\soccerdata\\_common.py#263\" target=\"_blank\"><span style=\"color: #7f7f7f; text-decoration-color: #7f7f7f\">263</span></a>\n",
       "</pre>\n"
      ],
      "text/plain": [
       "\u001b[2;36m[08/22/24 21:20:07]\u001b[0m\u001b[2;36m \u001b[0m\u001b[34mINFO    \u001b[0m Saving cached data to C:\\Users\\tymek\\soccerdata\\data\\FBref              \u001b]8;id=81115;file://C:\\Users\\tymek\\AppData\\Roaming\\Python\\Python311\\site-packages\\soccerdata\\_common.py\u001b\\\u001b[2m_common.py\u001b[0m\u001b]8;;\u001b\\\u001b[2m:\u001b[0m\u001b]8;id=564222;file://C:\\Users\\tymek\\AppData\\Roaming\\Python\\Python311\\site-packages\\soccerdata\\_common.py#263\u001b\\\u001b[2m263\u001b[0m\u001b]8;;\u001b\\\n"
      ]
     },
     "metadata": {},
     "output_type": "display_data"
    },
    {
     "data": {
      "text/html": [
       "<pre style=\"white-space:pre;overflow-x:auto;line-height:normal;font-family:Menlo,'DejaVu Sans Mono',consolas,'Courier New',monospace\"><span style=\"color: #7fbfbf; text-decoration-color: #7fbfbf\">[08/22/24 21:20:25] </span><span style=\"color: #000080; text-decoration-color: #000080\">INFO    </span> Saving cached data to C:\\Users\\tymek\\soccerdata\\data\\FBref              <a href=\"file://C:\\Users\\tymek\\AppData\\Roaming\\Python\\Python311\\site-packages\\soccerdata\\_common.py\" target=\"_blank\"><span style=\"color: #7f7f7f; text-decoration-color: #7f7f7f\">_common.py</span></a><span style=\"color: #7f7f7f; text-decoration-color: #7f7f7f\">:</span><a href=\"file://C:\\Users\\tymek\\AppData\\Roaming\\Python\\Python311\\site-packages\\soccerdata\\_common.py#263\" target=\"_blank\"><span style=\"color: #7f7f7f; text-decoration-color: #7f7f7f\">263</span></a>\n",
       "</pre>\n"
      ],
      "text/plain": [
       "\u001b[2;36m[08/22/24 21:20:25]\u001b[0m\u001b[2;36m \u001b[0m\u001b[34mINFO    \u001b[0m Saving cached data to C:\\Users\\tymek\\soccerdata\\data\\FBref              \u001b]8;id=707318;file://C:\\Users\\tymek\\AppData\\Roaming\\Python\\Python311\\site-packages\\soccerdata\\_common.py\u001b\\\u001b[2m_common.py\u001b[0m\u001b]8;;\u001b\\\u001b[2m:\u001b[0m\u001b]8;id=930951;file://C:\\Users\\tymek\\AppData\\Roaming\\Python\\Python311\\site-packages\\soccerdata\\_common.py#263\u001b\\\u001b[2m263\u001b[0m\u001b]8;;\u001b\\\n"
      ]
     },
     "metadata": {},
     "output_type": "display_data"
    }
   ],
   "source": [
    "leg_1_goals_no, leg_2_goals_no = get_leg_goals_count(no_rule_seasons)"
   ]
  },
  {
   "cell_type": "code",
   "execution_count": 13,
   "id": "9314b16b",
   "metadata": {},
   "outputs": [
    {
     "name": "stdout",
     "output_type": "stream",
     "text": [
      "avg goals 21/22 to 22/23\n",
      "leg 1: 2.5\n",
      "leg 2: 2.88\n"
     ]
    }
   ],
   "source": [
    "print(\"avg goals 21/22 to 22/23\")\n",
    "print(f\"leg 1: {round(np.mean(leg_1_goals_no), 2)}\")\n",
    "print(f\"leg 2: {round(np.mean(leg_2_goals_no), 2)}\")"
   ]
  },
  {
   "cell_type": "code",
   "execution_count": 131,
   "id": "d3b95d3c",
   "metadata": {},
   "outputs": [],
   "source": [
    "def test_means(leg, leg_no, equal_var=True):\n",
    "    t_statistic, p_value = stats.ttest_ind(leg, leg_no, equal_var=equal_var)\n",
    "\n",
    "    print('leg 1:')\n",
    "    if p_value < 0.05:\n",
    "        print(\"Różnica w średniej liczbie goli jest istotna.\")\n",
    "    else:\n",
    "        print(\"Nie ma istotnej różnicy w średniej liczbie goli.\")\n",
    "\n",
    "    print(\"p value:\", p_value)"
   ]
  },
  {
   "cell_type": "code",
   "execution_count": 130,
   "id": "29d5b978",
   "metadata": {},
   "outputs": [
    {
     "name": "stdout",
     "output_type": "stream",
     "text": [
      "leg 1:\n",
      "Nie ma istotnej różnicy w średniej liczbie goli.\n",
      "p value: 0.28673583357096566\n",
      "leg 1:\n",
      "Nie ma istotnej różnicy w średniej liczbie goli.\n",
      "p value: 0.693346491402913\n"
     ]
    }
   ],
   "source": [
    "test_means(leg_1_goals, leg_1_goals_no, equal_var=False)\n",
    "test_means(leg_2_goals, leg_2_goals_no, equal_var=False)"
   ]
  },
  {
   "cell_type": "markdown",
   "id": "fa70348e",
   "metadata": {},
   "source": [
    "Czy po usunięciu zasady o bramkach wyjazdowych zwiększyła się liczba dogrywek?"
   ]
  },
  {
   "cell_type": "code",
   "execution_count": 13,
   "id": "feb0eb6e",
   "metadata": {},
   "outputs": [],
   "source": [
    "def get_number_of_et(seasons, print_matches=True, league=\"UEFA-Champions league\"):\n",
    "    ucl_season = sd.FBref(leagues=league, seasons=seasons)\n",
    "    schedule = ucl_season.read_schedule()\n",
    "    knockout = schedule[~schedule['round'].isin(['Group stage', 'Final'])].copy()\n",
    "    # knockout.reset_index(drop=True, inplace=True)\n",
    "    extra_time = knockout[knockout['notes'].apply(lambda x: False if pd.isna(x) else (x.find('Extra') != -1 or x.find('extra') != -1))]\n",
    "    if print_matches:\n",
    "        print(extra_time['notes'])\n",
    "    return len(extra_time)"
   ]
  },
  {
   "cell_type": "code",
   "execution_count": 18,
   "id": "3099c356",
   "metadata": {},
   "outputs": [
    {
     "data": {
      "text/html": [
       "<pre style=\"white-space:pre;overflow-x:auto;line-height:normal;font-family:Menlo,'DejaVu Sans Mono',consolas,'Courier New',monospace\"><span style=\"color: #7fbfbf; text-decoration-color: #7fbfbf\">[08/22/24 21:55:37] </span><span style=\"color: #000080; text-decoration-color: #000080\">INFO    </span> Saving cached data to C:\\Users\\tymek\\soccerdata\\data\\FBref              <a href=\"file://C:\\Users\\tymek\\AppData\\Roaming\\Python\\Python311\\site-packages\\soccerdata\\_common.py\" target=\"_blank\"><span style=\"color: #7f7f7f; text-decoration-color: #7f7f7f\">_common.py</span></a><span style=\"color: #7f7f7f; text-decoration-color: #7f7f7f\">:</span><a href=\"file://C:\\Users\\tymek\\AppData\\Roaming\\Python\\Python311\\site-packages\\soccerdata\\_common.py#263\" target=\"_blank\"><span style=\"color: #7f7f7f; text-decoration-color: #7f7f7f\">263</span></a>\n",
       "</pre>\n"
      ],
      "text/plain": [
       "\u001b[2;36m[08/22/24 21:55:37]\u001b[0m\u001b[2;36m \u001b[0m\u001b[34mINFO    \u001b[0m Saving cached data to C:\\Users\\tymek\\soccerdata\\data\\FBref              \u001b]8;id=824315;file://C:\\Users\\tymek\\AppData\\Roaming\\Python\\Python311\\site-packages\\soccerdata\\_common.py\u001b\\\u001b[2m_common.py\u001b[0m\u001b]8;;\u001b\\\u001b[2m:\u001b[0m\u001b]8;id=968710;file://C:\\Users\\tymek\\AppData\\Roaming\\Python\\Python311\\site-packages\\soccerdata\\_common.py#263\u001b\\\u001b[2m263\u001b[0m\u001b]8;;\u001b\\\n"
      ]
     },
     "metadata": {},
     "output_type": "display_data"
    },
    {
     "name": "stdout",
     "output_type": "stream",
     "text": [
      "No. of matches with extra time: 7\n",
      "ET per season: 1.17\n"
     ]
    }
   ],
   "source": [
    "seasons = [14, 15, 16, 17, 18, 20]\n",
    "count = get_number_of_et(seasons, print_matches=False)\n",
    "print(f\"No. of matches with extra time: {count}\")\n",
    "print(f\"ET per season: {round(count / len(seasons), 2)}\")"
   ]
  },
  {
   "cell_type": "code",
   "execution_count": 19,
   "id": "b5303dcf",
   "metadata": {},
   "outputs": [
    {
     "data": {
      "text/html": [
       "<pre style=\"white-space:pre;overflow-x:auto;line-height:normal;font-family:Menlo,'DejaVu Sans Mono',consolas,'Courier New',monospace\"><span style=\"color: #7fbfbf; text-decoration-color: #7fbfbf\">[08/22/24 21:55:46] </span><span style=\"color: #000080; text-decoration-color: #000080\">INFO    </span> Saving cached data to C:\\Users\\tymek\\soccerdata\\data\\FBref              <a href=\"file://C:\\Users\\tymek\\AppData\\Roaming\\Python\\Python311\\site-packages\\soccerdata\\_common.py\" target=\"_blank\"><span style=\"color: #7f7f7f; text-decoration-color: #7f7f7f\">_common.py</span></a><span style=\"color: #7f7f7f; text-decoration-color: #7f7f7f\">:</span><a href=\"file://C:\\Users\\tymek\\AppData\\Roaming\\Python\\Python311\\site-packages\\soccerdata\\_common.py#263\" target=\"_blank\"><span style=\"color: #7f7f7f; text-decoration-color: #7f7f7f\">263</span></a>\n",
       "</pre>\n"
      ],
      "text/plain": [
       "\u001b[2;36m[08/22/24 21:55:46]\u001b[0m\u001b[2;36m \u001b[0m\u001b[34mINFO    \u001b[0m Saving cached data to C:\\Users\\tymek\\soccerdata\\data\\FBref              \u001b]8;id=68901;file://C:\\Users\\tymek\\AppData\\Roaming\\Python\\Python311\\site-packages\\soccerdata\\_common.py\u001b\\\u001b[2m_common.py\u001b[0m\u001b]8;;\u001b\\\u001b[2m:\u001b[0m\u001b]8;id=68424;file://C:\\Users\\tymek\\AppData\\Roaming\\Python\\Python311\\site-packages\\soccerdata\\_common.py#263\u001b\\\u001b[2m263\u001b[0m\u001b]8;;\u001b\\\n"
      ]
     },
     "metadata": {},
     "output_type": "display_data"
    },
    {
     "name": "stdout",
     "output_type": "stream",
     "text": [
      "No. of matches with extra time: 5\n",
      "ET per season: 1.67\n"
     ]
    }
   ],
   "source": [
    "seasons = [21, 22, 23]\n",
    "count = get_number_of_et(seasons, print_matches=False)\n",
    "print(f\"No. of matches with extra time: {count}\")\n",
    "print(f\"ET per season: {round(count / len(seasons), 2)}\")"
   ]
  },
  {
   "cell_type": "markdown",
   "id": "82b30b22-1a49-4dfc-a0aa-0dc4606fadba",
   "metadata": {},
   "source": [
    "## EUROPA LEAGUE"
   ]
  },
  {
   "cell_type": "code",
   "execution_count": 7,
   "id": "c91266e2-cae7-4c52-9446-290598e911c5",
   "metadata": {},
   "outputs": [
    {
     "data": {
      "text/html": [
       "<pre style=\"white-space:pre;overflow-x:auto;line-height:normal;font-family:Menlo,'DejaVu Sans Mono',consolas,'Courier New',monospace\"><span style=\"color: #7fbfbf; text-decoration-color: #7fbfbf\">[08/22/24 21:36:35] </span><span style=\"color: #000080; text-decoration-color: #000080\">INFO    </span> Saving cached data to C:\\Users\\tymek\\soccerdata\\data\\FBref              <a href=\"file://C:\\Users\\tymek\\AppData\\Roaming\\Python\\Python311\\site-packages\\soccerdata\\_common.py\" target=\"_blank\"><span style=\"color: #7f7f7f; text-decoration-color: #7f7f7f\">_common.py</span></a><span style=\"color: #7f7f7f; text-decoration-color: #7f7f7f\">:</span><a href=\"file://C:\\Users\\tymek\\AppData\\Roaming\\Python\\Python311\\site-packages\\soccerdata\\_common.py#263\" target=\"_blank\"><span style=\"color: #7f7f7f; text-decoration-color: #7f7f7f\">263</span></a>\n",
       "</pre>\n"
      ],
      "text/plain": [
       "\u001b[2;36m[08/22/24 21:36:35]\u001b[0m\u001b[2;36m \u001b[0m\u001b[34mINFO    \u001b[0m Saving cached data to C:\\Users\\tymek\\soccerdata\\data\\FBref              \u001b]8;id=862450;file://C:\\Users\\tymek\\AppData\\Roaming\\Python\\Python311\\site-packages\\soccerdata\\_common.py\u001b\\\u001b[2m_common.py\u001b[0m\u001b]8;;\u001b\\\u001b[2m:\u001b[0m\u001b]8;id=347312;file://C:\\Users\\tymek\\AppData\\Roaming\\Python\\Python311\\site-packages\\soccerdata\\_common.py#263\u001b\\\u001b[2m263\u001b[0m\u001b]8;;\u001b\\\n"
      ]
     },
     "metadata": {},
     "output_type": "display_data"
    },
    {
     "data": {
      "text/html": [
       "<pre style=\"white-space:pre;overflow-x:auto;line-height:normal;font-family:Menlo,'DejaVu Sans Mono',consolas,'Courier New',monospace\"><span style=\"color: #7fbfbf; text-decoration-color: #7fbfbf\">[08/22/24 21:37:15] </span><span style=\"color: #000080; text-decoration-color: #000080\">INFO    </span> Saving cached data to C:\\Users\\tymek\\soccerdata\\data\\FBref              <a href=\"file://C:\\Users\\tymek\\AppData\\Roaming\\Python\\Python311\\site-packages\\soccerdata\\_common.py\" target=\"_blank\"><span style=\"color: #7f7f7f; text-decoration-color: #7f7f7f\">_common.py</span></a><span style=\"color: #7f7f7f; text-decoration-color: #7f7f7f\">:</span><a href=\"file://C:\\Users\\tymek\\AppData\\Roaming\\Python\\Python311\\site-packages\\soccerdata\\_common.py#263\" target=\"_blank\"><span style=\"color: #7f7f7f; text-decoration-color: #7f7f7f\">263</span></a>\n",
       "</pre>\n"
      ],
      "text/plain": [
       "\u001b[2;36m[08/22/24 21:37:15]\u001b[0m\u001b[2;36m \u001b[0m\u001b[34mINFO    \u001b[0m Saving cached data to C:\\Users\\tymek\\soccerdata\\data\\FBref              \u001b]8;id=826284;file://C:\\Users\\tymek\\AppData\\Roaming\\Python\\Python311\\site-packages\\soccerdata\\_common.py\u001b\\\u001b[2m_common.py\u001b[0m\u001b]8;;\u001b\\\u001b[2m:\u001b[0m\u001b]8;id=70590;file://C:\\Users\\tymek\\AppData\\Roaming\\Python\\Python311\\site-packages\\soccerdata\\_common.py#263\u001b\\\u001b[2m263\u001b[0m\u001b]8;;\u001b\\\n"
      ]
     },
     "metadata": {},
     "output_type": "display_data"
    },
    {
     "data": {
      "text/html": [
       "<pre style=\"white-space:pre;overflow-x:auto;line-height:normal;font-family:Menlo,'DejaVu Sans Mono',consolas,'Courier New',monospace\"><span style=\"color: #7fbfbf; text-decoration-color: #7fbfbf\">[08/22/24 21:37:45] </span><span style=\"color: #000080; text-decoration-color: #000080\">INFO    </span> Saving cached data to C:\\Users\\tymek\\soccerdata\\data\\FBref              <a href=\"file://C:\\Users\\tymek\\AppData\\Roaming\\Python\\Python311\\site-packages\\soccerdata\\_common.py\" target=\"_blank\"><span style=\"color: #7f7f7f; text-decoration-color: #7f7f7f\">_common.py</span></a><span style=\"color: #7f7f7f; text-decoration-color: #7f7f7f\">:</span><a href=\"file://C:\\Users\\tymek\\AppData\\Roaming\\Python\\Python311\\site-packages\\soccerdata\\_common.py#263\" target=\"_blank\"><span style=\"color: #7f7f7f; text-decoration-color: #7f7f7f\">263</span></a>\n",
       "</pre>\n"
      ],
      "text/plain": [
       "\u001b[2;36m[08/22/24 21:37:45]\u001b[0m\u001b[2;36m \u001b[0m\u001b[34mINFO    \u001b[0m Saving cached data to C:\\Users\\tymek\\soccerdata\\data\\FBref              \u001b]8;id=224996;file://C:\\Users\\tymek\\AppData\\Roaming\\Python\\Python311\\site-packages\\soccerdata\\_common.py\u001b\\\u001b[2m_common.py\u001b[0m\u001b]8;;\u001b\\\u001b[2m:\u001b[0m\u001b]8;id=514879;file://C:\\Users\\tymek\\AppData\\Roaming\\Python\\Python311\\site-packages\\soccerdata\\_common.py#263\u001b\\\u001b[2m263\u001b[0m\u001b]8;;\u001b\\\n"
      ]
     },
     "metadata": {},
     "output_type": "display_data"
    },
    {
     "data": {
      "text/html": [
       "<pre style=\"white-space:pre;overflow-x:auto;line-height:normal;font-family:Menlo,'DejaVu Sans Mono',consolas,'Courier New',monospace\"><span style=\"color: #7fbfbf; text-decoration-color: #7fbfbf\">[08/22/24 21:38:17] </span><span style=\"color: #000080; text-decoration-color: #000080\">INFO    </span> Saving cached data to C:\\Users\\tymek\\soccerdata\\data\\FBref              <a href=\"file://C:\\Users\\tymek\\AppData\\Roaming\\Python\\Python311\\site-packages\\soccerdata\\_common.py\" target=\"_blank\"><span style=\"color: #7f7f7f; text-decoration-color: #7f7f7f\">_common.py</span></a><span style=\"color: #7f7f7f; text-decoration-color: #7f7f7f\">:</span><a href=\"file://C:\\Users\\tymek\\AppData\\Roaming\\Python\\Python311\\site-packages\\soccerdata\\_common.py#263\" target=\"_blank\"><span style=\"color: #7f7f7f; text-decoration-color: #7f7f7f\">263</span></a>\n",
       "</pre>\n"
      ],
      "text/plain": [
       "\u001b[2;36m[08/22/24 21:38:17]\u001b[0m\u001b[2;36m \u001b[0m\u001b[34mINFO    \u001b[0m Saving cached data to C:\\Users\\tymek\\soccerdata\\data\\FBref              \u001b]8;id=496678;file://C:\\Users\\tymek\\AppData\\Roaming\\Python\\Python311\\site-packages\\soccerdata\\_common.py\u001b\\\u001b[2m_common.py\u001b[0m\u001b]8;;\u001b\\\u001b[2m:\u001b[0m\u001b]8;id=533829;file://C:\\Users\\tymek\\AppData\\Roaming\\Python\\Python311\\site-packages\\soccerdata\\_common.py#263\u001b\\\u001b[2m263\u001b[0m\u001b]8;;\u001b\\\n"
      ]
     },
     "metadata": {},
     "output_type": "display_data"
    },
    {
     "data": {
      "text/html": [
       "<pre style=\"white-space:pre;overflow-x:auto;line-height:normal;font-family:Menlo,'DejaVu Sans Mono',consolas,'Courier New',monospace\"><span style=\"color: #7fbfbf; text-decoration-color: #7fbfbf\">[08/22/24 21:38:47] </span><span style=\"color: #000080; text-decoration-color: #000080\">INFO    </span> Saving cached data to C:\\Users\\tymek\\soccerdata\\data\\FBref              <a href=\"file://C:\\Users\\tymek\\AppData\\Roaming\\Python\\Python311\\site-packages\\soccerdata\\_common.py\" target=\"_blank\"><span style=\"color: #7f7f7f; text-decoration-color: #7f7f7f\">_common.py</span></a><span style=\"color: #7f7f7f; text-decoration-color: #7f7f7f\">:</span><a href=\"file://C:\\Users\\tymek\\AppData\\Roaming\\Python\\Python311\\site-packages\\soccerdata\\_common.py#263\" target=\"_blank\"><span style=\"color: #7f7f7f; text-decoration-color: #7f7f7f\">263</span></a>\n",
       "</pre>\n"
      ],
      "text/plain": [
       "\u001b[2;36m[08/22/24 21:38:47]\u001b[0m\u001b[2;36m \u001b[0m\u001b[34mINFO    \u001b[0m Saving cached data to C:\\Users\\tymek\\soccerdata\\data\\FBref              \u001b]8;id=934946;file://C:\\Users\\tymek\\AppData\\Roaming\\Python\\Python311\\site-packages\\soccerdata\\_common.py\u001b\\\u001b[2m_common.py\u001b[0m\u001b]8;;\u001b\\\u001b[2m:\u001b[0m\u001b]8;id=135609;file://C:\\Users\\tymek\\AppData\\Roaming\\Python\\Python311\\site-packages\\soccerdata\\_common.py#263\u001b\\\u001b[2m263\u001b[0m\u001b]8;;\u001b\\\n"
      ]
     },
     "metadata": {},
     "output_type": "display_data"
    },
    {
     "data": {
      "text/html": [
       "<pre style=\"white-space:pre;overflow-x:auto;line-height:normal;font-family:Menlo,'DejaVu Sans Mono',consolas,'Courier New',monospace\"><span style=\"color: #7fbfbf; text-decoration-color: #7fbfbf\">[08/22/24 21:39:19] </span><span style=\"color: #000080; text-decoration-color: #000080\">INFO    </span> Saving cached data to C:\\Users\\tymek\\soccerdata\\data\\FBref              <a href=\"file://C:\\Users\\tymek\\AppData\\Roaming\\Python\\Python311\\site-packages\\soccerdata\\_common.py\" target=\"_blank\"><span style=\"color: #7f7f7f; text-decoration-color: #7f7f7f\">_common.py</span></a><span style=\"color: #7f7f7f; text-decoration-color: #7f7f7f\">:</span><a href=\"file://C:\\Users\\tymek\\AppData\\Roaming\\Python\\Python311\\site-packages\\soccerdata\\_common.py#263\" target=\"_blank\"><span style=\"color: #7f7f7f; text-decoration-color: #7f7f7f\">263</span></a>\n",
       "</pre>\n"
      ],
      "text/plain": [
       "\u001b[2;36m[08/22/24 21:39:19]\u001b[0m\u001b[2;36m \u001b[0m\u001b[34mINFO    \u001b[0m Saving cached data to C:\\Users\\tymek\\soccerdata\\data\\FBref              \u001b]8;id=816213;file://C:\\Users\\tymek\\AppData\\Roaming\\Python\\Python311\\site-packages\\soccerdata\\_common.py\u001b\\\u001b[2m_common.py\u001b[0m\u001b]8;;\u001b\\\u001b[2m:\u001b[0m\u001b]8;id=775146;file://C:\\Users\\tymek\\AppData\\Roaming\\Python\\Python311\\site-packages\\soccerdata\\_common.py#263\u001b\\\u001b[2m263\u001b[0m\u001b]8;;\u001b\\\n"
      ]
     },
     "metadata": {},
     "output_type": "display_data"
    }
   ],
   "source": [
    "leg_1_goals, leg_2_goals = get_leg_goals_count(rule_seasons, league='UEFA-Europa League')"
   ]
  },
  {
   "cell_type": "code",
   "execution_count": 8,
   "id": "defac99f-1dff-4146-888d-58ed16fad1dd",
   "metadata": {},
   "outputs": [
    {
     "name": "stdout",
     "output_type": "stream",
     "text": [
      "avg goals 14/15 to 20/21\n",
      "leg 1: 2.74\n",
      "leg 2: 2.83\n",
      "summed: 2.79\n"
     ]
    }
   ],
   "source": [
    "print(\"avg goals 14/15 to 20/21\")\n",
    "print(f\"leg 1: {round(np.mean(leg_1_goals), 2)}\")\n",
    "print(f\"leg 2: {round(np.mean(leg_2_goals), 2)}\")\n",
    "print(f\"summed: {round(np.mean(leg_1_goals + leg_2_goals), 2)}\")"
   ]
  },
  {
   "cell_type": "code",
   "execution_count": 11,
   "id": "5fec9f5d-58ef-4b44-a7f7-66a08d661664",
   "metadata": {},
   "outputs": [
    {
     "data": {
      "text/html": [
       "<pre style=\"white-space:pre;overflow-x:auto;line-height:normal;font-family:Menlo,'DejaVu Sans Mono',consolas,'Courier New',monospace\"><span style=\"color: #7fbfbf; text-decoration-color: #7fbfbf\">[08/22/24 21:42:26] </span><span style=\"color: #000080; text-decoration-color: #000080\">INFO    </span> Saving cached data to C:\\Users\\tymek\\soccerdata\\data\\FBref              <a href=\"file://C:\\Users\\tymek\\AppData\\Roaming\\Python\\Python311\\site-packages\\soccerdata\\_common.py\" target=\"_blank\"><span style=\"color: #7f7f7f; text-decoration-color: #7f7f7f\">_common.py</span></a><span style=\"color: #7f7f7f; text-decoration-color: #7f7f7f\">:</span><a href=\"file://C:\\Users\\tymek\\AppData\\Roaming\\Python\\Python311\\site-packages\\soccerdata\\_common.py#263\" target=\"_blank\"><span style=\"color: #7f7f7f; text-decoration-color: #7f7f7f\">263</span></a>\n",
       "</pre>\n"
      ],
      "text/plain": [
       "\u001b[2;36m[08/22/24 21:42:26]\u001b[0m\u001b[2;36m \u001b[0m\u001b[34mINFO    \u001b[0m Saving cached data to C:\\Users\\tymek\\soccerdata\\data\\FBref              \u001b]8;id=818665;file://C:\\Users\\tymek\\AppData\\Roaming\\Python\\Python311\\site-packages\\soccerdata\\_common.py\u001b\\\u001b[2m_common.py\u001b[0m\u001b]8;;\u001b\\\u001b[2m:\u001b[0m\u001b]8;id=826437;file://C:\\Users\\tymek\\AppData\\Roaming\\Python\\Python311\\site-packages\\soccerdata\\_common.py#263\u001b\\\u001b[2m263\u001b[0m\u001b]8;;\u001b\\\n"
      ]
     },
     "metadata": {},
     "output_type": "display_data"
    },
    {
     "name": "stdout",
     "output_type": "stream",
     "text": [
      "score is NONE!\n",
      "score is NONE!\n"
     ]
    },
    {
     "data": {
      "text/html": [
       "<pre style=\"white-space:pre;overflow-x:auto;line-height:normal;font-family:Menlo,'DejaVu Sans Mono',consolas,'Courier New',monospace\"><span style=\"color: #7fbfbf; text-decoration-color: #7fbfbf\">[08/22/24 21:42:49] </span><span style=\"color: #000080; text-decoration-color: #000080\">INFO    </span> Saving cached data to C:\\Users\\tymek\\soccerdata\\data\\FBref              <a href=\"file://C:\\Users\\tymek\\AppData\\Roaming\\Python\\Python311\\site-packages\\soccerdata\\_common.py\" target=\"_blank\"><span style=\"color: #7f7f7f; text-decoration-color: #7f7f7f\">_common.py</span></a><span style=\"color: #7f7f7f; text-decoration-color: #7f7f7f\">:</span><a href=\"file://C:\\Users\\tymek\\AppData\\Roaming\\Python\\Python311\\site-packages\\soccerdata\\_common.py#263\" target=\"_blank\"><span style=\"color: #7f7f7f; text-decoration-color: #7f7f7f\">263</span></a>\n",
       "</pre>\n"
      ],
      "text/plain": [
       "\u001b[2;36m[08/22/24 21:42:49]\u001b[0m\u001b[2;36m \u001b[0m\u001b[34mINFO    \u001b[0m Saving cached data to C:\\Users\\tymek\\soccerdata\\data\\FBref              \u001b]8;id=495841;file://C:\\Users\\tymek\\AppData\\Roaming\\Python\\Python311\\site-packages\\soccerdata\\_common.py\u001b\\\u001b[2m_common.py\u001b[0m\u001b]8;;\u001b\\\u001b[2m:\u001b[0m\u001b]8;id=88237;file://C:\\Users\\tymek\\AppData\\Roaming\\Python\\Python311\\site-packages\\soccerdata\\_common.py#263\u001b\\\u001b[2m263\u001b[0m\u001b]8;;\u001b\\\n"
      ]
     },
     "metadata": {},
     "output_type": "display_data"
    },
    {
     "data": {
      "text/html": [
       "<pre style=\"white-space:pre;overflow-x:auto;line-height:normal;font-family:Menlo,'DejaVu Sans Mono',consolas,'Courier New',monospace\"><span style=\"color: #7fbfbf; text-decoration-color: #7fbfbf\">[08/22/24 21:43:06] </span><span style=\"color: #000080; text-decoration-color: #000080\">INFO    </span> Saving cached data to C:\\Users\\tymek\\soccerdata\\data\\FBref              <a href=\"file://C:\\Users\\tymek\\AppData\\Roaming\\Python\\Python311\\site-packages\\soccerdata\\_common.py\" target=\"_blank\"><span style=\"color: #7f7f7f; text-decoration-color: #7f7f7f\">_common.py</span></a><span style=\"color: #7f7f7f; text-decoration-color: #7f7f7f\">:</span><a href=\"file://C:\\Users\\tymek\\AppData\\Roaming\\Python\\Python311\\site-packages\\soccerdata\\_common.py#263\" target=\"_blank\"><span style=\"color: #7f7f7f; text-decoration-color: #7f7f7f\">263</span></a>\n",
       "</pre>\n"
      ],
      "text/plain": [
       "\u001b[2;36m[08/22/24 21:43:06]\u001b[0m\u001b[2;36m \u001b[0m\u001b[34mINFO    \u001b[0m Saving cached data to C:\\Users\\tymek\\soccerdata\\data\\FBref              \u001b]8;id=109675;file://C:\\Users\\tymek\\AppData\\Roaming\\Python\\Python311\\site-packages\\soccerdata\\_common.py\u001b\\\u001b[2m_common.py\u001b[0m\u001b]8;;\u001b\\\u001b[2m:\u001b[0m\u001b]8;id=721269;file://C:\\Users\\tymek\\AppData\\Roaming\\Python\\Python311\\site-packages\\soccerdata\\_common.py#263\u001b\\\u001b[2m263\u001b[0m\u001b]8;;\u001b\\\n"
      ]
     },
     "metadata": {},
     "output_type": "display_data"
    }
   ],
   "source": [
    "leg_1_goals_no, leg_2_goals_no = get_leg_goals_count(no_rule_seasons, league='UEFA-Europa League')"
   ]
  },
  {
   "cell_type": "code",
   "execution_count": 12,
   "id": "c00f6823-89ca-45f1-9866-188d6272bf9a",
   "metadata": {},
   "outputs": [
    {
     "name": "stdout",
     "output_type": "stream",
     "text": [
      "avg goals 21/22 to 23/24\n",
      "leg 1: 2.74\n",
      "leg 2: 2.92\n",
      "summed: 2.83\n"
     ]
    }
   ],
   "source": [
    "print(\"avg goals 21/22 to 23/24\")\n",
    "print(f\"leg 1: {round(np.mean(leg_1_goals_no), 2)}\")\n",
    "print(f\"leg 2: {round(np.mean(leg_2_goals_no), 2)}\")\n",
    "print(f\"summed: {round(np.mean(leg_1_goals_no + leg_2_goals_no), 2)}\")"
   ]
  },
  {
   "cell_type": "code",
   "execution_count": 16,
   "id": "f4467b98-7ce6-4507-b73b-0cdc36ee9e8e",
   "metadata": {},
   "outputs": [
    {
     "data": {
      "text/html": [
       "<pre style=\"white-space:pre;overflow-x:auto;line-height:normal;font-family:Menlo,'DejaVu Sans Mono',consolas,'Courier New',monospace\"><span style=\"color: #7fbfbf; text-decoration-color: #7fbfbf\">[08/22/24 21:54:14] </span><span style=\"color: #000080; text-decoration-color: #000080\">INFO    </span> Saving cached data to C:\\Users\\tymek\\soccerdata\\data\\FBref              <a href=\"file://C:\\Users\\tymek\\AppData\\Roaming\\Python\\Python311\\site-packages\\soccerdata\\_common.py\" target=\"_blank\"><span style=\"color: #7f7f7f; text-decoration-color: #7f7f7f\">_common.py</span></a><span style=\"color: #7f7f7f; text-decoration-color: #7f7f7f\">:</span><a href=\"file://C:\\Users\\tymek\\AppData\\Roaming\\Python\\Python311\\site-packages\\soccerdata\\_common.py#263\" target=\"_blank\"><span style=\"color: #7f7f7f; text-decoration-color: #7f7f7f\">263</span></a>\n",
       "</pre>\n"
      ],
      "text/plain": [
       "\u001b[2;36m[08/22/24 21:54:14]\u001b[0m\u001b[2;36m \u001b[0m\u001b[34mINFO    \u001b[0m Saving cached data to C:\\Users\\tymek\\soccerdata\\data\\FBref              \u001b]8;id=151205;file://C:\\Users\\tymek\\AppData\\Roaming\\Python\\Python311\\site-packages\\soccerdata\\_common.py\u001b\\\u001b[2m_common.py\u001b[0m\u001b]8;;\u001b\\\u001b[2m:\u001b[0m\u001b]8;id=747478;file://C:\\Users\\tymek\\AppData\\Roaming\\Python\\Python311\\site-packages\\soccerdata\\_common.py#263\u001b\\\u001b[2m263\u001b[0m\u001b]8;;\u001b\\\n"
      ]
     },
     "metadata": {},
     "output_type": "display_data"
    },
    {
     "name": "stdout",
     "output_type": "stream",
     "text": [
      "No. of matches with extra time: 13\n",
      "ET per season: 2.17\n"
     ]
    }
   ],
   "source": [
    "seasons = [14, 15, 16, 17, 18, 20]\n",
    "count = get_number_of_et(seasons, print_matches=False, league=\"UEFA-Europa League\")\n",
    "print(f\"No. of matches with extra time: {count}\")\n",
    "print(f\"ET per season: {round(count / len(seasons), 2)}\")"
   ]
  },
  {
   "cell_type": "code",
   "execution_count": 17,
   "id": "b137e4f8-ce93-4a24-9319-d8fd1b1f9630",
   "metadata": {},
   "outputs": [
    {
     "data": {
      "text/html": [
       "<pre style=\"white-space:pre;overflow-x:auto;line-height:normal;font-family:Menlo,'DejaVu Sans Mono',consolas,'Courier New',monospace\"><span style=\"color: #7fbfbf; text-decoration-color: #7fbfbf\">[08/22/24 21:54:17] </span><span style=\"color: #000080; text-decoration-color: #000080\">INFO    </span> Saving cached data to C:\\Users\\tymek\\soccerdata\\data\\FBref              <a href=\"file://C:\\Users\\tymek\\AppData\\Roaming\\Python\\Python311\\site-packages\\soccerdata\\_common.py\" target=\"_blank\"><span style=\"color: #7f7f7f; text-decoration-color: #7f7f7f\">_common.py</span></a><span style=\"color: #7f7f7f; text-decoration-color: #7f7f7f\">:</span><a href=\"file://C:\\Users\\tymek\\AppData\\Roaming\\Python\\Python311\\site-packages\\soccerdata\\_common.py#263\" target=\"_blank\"><span style=\"color: #7f7f7f; text-decoration-color: #7f7f7f\">263</span></a>\n",
       "</pre>\n"
      ],
      "text/plain": [
       "\u001b[2;36m[08/22/24 21:54:17]\u001b[0m\u001b[2;36m \u001b[0m\u001b[34mINFO    \u001b[0m Saving cached data to C:\\Users\\tymek\\soccerdata\\data\\FBref              \u001b]8;id=698942;file://C:\\Users\\tymek\\AppData\\Roaming\\Python\\Python311\\site-packages\\soccerdata\\_common.py\u001b\\\u001b[2m_common.py\u001b[0m\u001b]8;;\u001b\\\u001b[2m:\u001b[0m\u001b]8;id=54090;file://C:\\Users\\tymek\\AppData\\Roaming\\Python\\Python311\\site-packages\\soccerdata\\_common.py#263\u001b\\\u001b[2m263\u001b[0m\u001b]8;;\u001b\\\n"
      ]
     },
     "metadata": {},
     "output_type": "display_data"
    },
    {
     "name": "stdout",
     "output_type": "stream",
     "text": [
      "No. of matches with extra time: 13\n",
      "ET per season: 4.33\n"
     ]
    }
   ],
   "source": [
    "seasons = [21, 22, 23]\n",
    "count = get_number_of_et(seasons, print_matches=False, league=\"UEFA-Europa League\")\n",
    "print(f\"No. of matches with extra time: {count}\")\n",
    "print(f\"ET per season: {round(count / len(seasons), 2)}\")"
   ]
  },
  {
   "cell_type": "code",
   "execution_count": 23,
   "id": "9ad72103-156b-477e-94e9-82b797b9d844",
   "metadata": {},
   "outputs": [],
   "source": [
    "\"\"\"\n",
    "UCL\n",
    "goals/match 2.95 vs 2.69\n",
    "extra times/sezon 1.17 vs 1.67\n",
    "\n",
    "UEL\n",
    "g/m 2.79 vs 2.83\n",
    "et/s 2.17 vs 4.33\n",
    "\"\"\"\n",
    "pass"
   ]
  }
 ],
 "metadata": {
  "kernelspec": {
   "display_name": "Python 3 (ipykernel)",
   "language": "python",
   "name": "python3"
  },
  "language_info": {
   "codemirror_mode": {
    "name": "ipython",
    "version": 3
   },
   "file_extension": ".py",
   "mimetype": "text/x-python",
   "name": "python",
   "nbconvert_exporter": "python",
   "pygments_lexer": "ipython3",
   "version": "3.11.7"
  }
 },
 "nbformat": 4,
 "nbformat_minor": 5
}
